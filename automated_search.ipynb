# Import the modules
#!pip install webdriver-manager
import selenium
from selenium import webdriver
from selenium.webdriver.common.keys import Keys
import time
import random
import nltk
from selenium.webdriver.common.by import By


# selenium 4
from selenium import webdriver
from selenium.webdriver.edge.service import Service as EdgeService
from webdriver_manager.microsoft import EdgeChromiumDriverManager

# You can add a list of words words that needs to be searched, I am using random words using NLTK
# Download the words corpus if not already installed
#nltk.download ('words')

# Get a list of words
word_list = nltk.corpus.words.words ()

# Create a list of search terms
search_terms = []
counter=0
# Generate 34 random words and append them to the list
for i in range (34):
    word = random.choice (word_list)
    search_terms.append (word)

# Create a webdriver object for Edge
driver = webdriver.Edge()
#driver = webdriver.Edge(service=EdgeService(EdgeChromiumDriverManager().install()))


# Navigate to the Bing homepage
driver.get("https://www.bing.com")
time.sleep(5)

# Perform 34 Bing searches with a random delay between each search. I have randomly selected 34 words, depending upon your list size you can modify the print statement below.
for term in search_terms:
    # Enter the search term in the search box and press enter
    driver.find_element(By.ID, "sb_form_q").clear()
    driver.find_element(By.ID, "sb_form_q").send_keys(term)
    driver.find_element(By.ID, "sb_form_q").send_keys(Keys.ENTER)
    time.sleep(5)
    # Wait for a random number of seconds between 10 and 30. Depending upon how much time you need between the search you can adjust the value below 
    delay = random.randint(10, 20)
    time.sleep(delay)
    counter=counter+1
    print("Performing search", counter, "of 34")

# Close the browser
print("Search has been performed on desktop, Moving to mobile browser!")
driver.quit()

#SIMULATE A MOBILE DEVICE ON DESKTOP BROWSER. This is to check how this automation would work on a certain mobile device. You can change the device type below.
import selenium
from selenium import webdriver
from selenium.webdriver.common.keys import Keys
import time
import random
import nltk
from selenium.webdriver.common.by import By
from selenium import webdriver
from selenium.webdriver.edge.service import Service

def simulate_mobile_browser():
    # change the device if you want to simulate some other device
    mobile_emulation = { "deviceName": "iPhone X" }

    options = webdriver.EdgeOptions()
    options.use_chromium = True
    options.add_experimental_option("mobileEmulation", mobile_emulation)

    # Replace 'path_to_edge_driver' with the path to your Edge driver
    service = Service(executable_path='path_to_edge_driver')
    driver = webdriver.Edge(service=service, options=options)
    # Navigate to the Bing homepage
    driver.get("https://www.bing.com/")
    counter = 0
    for term in search_terms:
    # Enter the search term in the search box and press enter
        driver.find_element(By.ID, "sb_form_q").clear()
        driver.find_element(By.ID, "sb_form_q").send_keys(term)
        driver.find_element(By.ID, "sb_form_q").send_keys(Keys.ENTER)
        time.sleep(5)
    # Wait for a random number of seconds between 10 and 30
        delay = random.randint(10, 20)
        time.sleep(delay)
        counter=counter+1
        print("Performing search", counter, "of 34")
simulate_mobile_browser()
# Perform 34 Bing searches with a random delay between each search
# Close the browser
print("Search has been performed, closing the browser!")
driver.quit()
