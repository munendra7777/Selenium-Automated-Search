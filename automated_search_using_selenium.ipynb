{
 "cells": [
  {
   "cell_type": "markdown",
   "metadata": {},
   "source": [
    "# Install and import the necessary modules"
   ]
  },
  {
   "cell_type": "code",
   "execution_count": null,
   "metadata": {},
   "outputs": [],
   "source": [
    "# Import the modules\n",
    "#!pip install webdriver-manager\n",
    "import selenium\n",
    "from selenium import webdriver\n",
    "from selenium.webdriver.common.keys import Keys\n",
    "import time\n",
    "import random\n",
    "import nltk\n",
    "from selenium.webdriver.common.by import By\n",
    "\n",
    "\n",
    "# selenium 4\n",
    "from selenium import webdriver\n",
    "from selenium.webdriver.edge.service import Service as EdgeService\n",
    "from webdriver_manager.microsoft import EdgeChromiumDriverManager\n"
   ]
  },
  {
   "cell_type": "markdown",
   "metadata": {},
   "source": [
    "# You can add a list of words words that needs to be searched, I am using random words using NLTK\n",
    "\n",
    "# Download the words corpus if not already installed.\n"
   ]
  },
  {
   "cell_type": "code",
   "execution_count": null,
   "metadata": {},
   "outputs": [],
   "source": [
    "\n",
    "#nltk.download ('words')\n",
    "\n",
    "# Get a list of words\n",
    "word_list = nltk.corpus.words.words ()\n",
    "\n",
    "# Create a list of search terms\n",
    "search_terms = []\n",
    "counter=0\n",
    "# Generate 34 random words and append them to the list\n",
    "for i in range (34):\n",
    "    word = random.choice (word_list)\n",
    "    search_terms.append (word)\n",
    "\n",
    "# Create a webdriver object for Edge\n",
    "driver = webdriver.Edge()\n",
    "#driver = webdriver.Edge(service=EdgeService(EdgeChromiumDriverManager().install()))\n",
    "\n",
    "\n"
   ]
  },
  {
   "cell_type": "markdown",
   "metadata": {},
   "source": [
    "# Navigate to the page where you want to perform the search\n",
    "## I have used bing home page for searching, you can use any other web page like google or wikipedia"
   ]
  },
  {
   "cell_type": "code",
   "execution_count": null,
   "metadata": {},
   "outputs": [],
   "source": [
    "# Navigate to the Bing homepage\n",
    "driver.get(\"https://www.bing.com\")\n",
    "time.sleep(5)\n",
    "\n",
    "# Perform 34 Bing searches with a random delay between each search\n",
    "for term in search_terms:\n",
    "    # Enter the search term in the search box and press enter\n",
    "    driver.find_element(By.ID, \"sb_form_q\").clear()\n",
    "    driver.find_element(By.ID, \"sb_form_q\").send_keys(term)\n",
    "    driver.find_element(By.ID, \"sb_form_q\").send_keys(Keys.ENTER)\n",
    "    time.sleep(5)\n",
    "    # Wait for a random number of seconds between 10 and 30. Depending upon how much time you need between the search you can adjust the value below \n",
    "    delay = random.randint(10, 20)\n",
    "    time.sleep(delay)\n",
    "    counter=counter+1\n",
    "    print(\"Performing search\", counter, \"of 34\")\n",
    "\n",
    "# Close the browser\n",
    "print(\"Search has been performed on desktop, Moving to mobile browser!\")\n",
    "driver.quit()\n",
    "\n"
   ]
  },
  {
   "cell_type": "markdown",
   "metadata": {},
   "source": [
    "# SIMULATE A MOBILE DEVICE ON DESKTOP BROWSER. This is to check how this automation would work on a certain mobile device. You can change the device type below.\n"
   ]
  },
  {
   "cell_type": "code",
   "execution_count": null,
   "metadata": {},
   "outputs": [],
   "source": [
    "#SIMULATE A MOBILE DEVICE\n",
    "import selenium\n",
    "from selenium import webdriver\n",
    "from selenium.webdriver.common.keys import Keys\n",
    "import time\n",
    "import random\n",
    "import nltk\n",
    "from selenium.webdriver.common.by import By\n",
    "from selenium import webdriver\n",
    "from selenium.webdriver.edge.service import Service\n",
    "\n",
    "def simulate_mobile_browser():\n",
    "    mobile_emulation = { \"deviceName\": \"iPhone X\" }\n",
    "\n",
    "    options = webdriver.EdgeOptions()\n",
    "    options.use_chromium = True\n",
    "    options.add_experimental_option(\"mobileEmulation\", mobile_emulation)\n",
    "\n",
    "    # Replace 'path_to_edge_driver' with the path to your Edge driver\n",
    "    service = Service(executable_path='path_to_edge_driver')\n",
    "    driver = webdriver.Edge(service=service, options=options)\n",
    "    # Navigate to the Bing homepage\n",
    "    driver.get(\"https://www.bing.com/\")\n",
    "    counter = 0\n",
    "    for term in search_terms:\n",
    "    # Enter the search term in the search box and press enter\n",
    "        driver.find_element(By.ID, \"sb_form_q\").clear()\n",
    "        driver.find_element(By.ID, \"sb_form_q\").send_keys(term)\n",
    "        driver.find_element(By.ID, \"sb_form_q\").send_keys(Keys.ENTER)\n",
    "        time.sleep(5)\n",
    "    # Wait for a random number of seconds between 10 and 30\n",
    "        delay = random.randint(10, 20)\n",
    "        time.sleep(delay)\n",
    "        counter=counter+1\n",
    "        print(\"Performing search\", counter, \"of 34\")\n",
    "simulate_mobile_browser()\n",
    "# Perform 34 Bing searches with a random delay between each search\n",
    "# Close the browser\n",
    "print(\"Search has been performed, closing the browser!\")\n",
    "driver.quit()"
   ]
  }
 ],
 "metadata": {
  "kernelspec": {
   "display_name": "Python 3",
   "language": "python",
   "name": "python3"
  },
  "language_info": {
   "codemirror_mode": {
    "name": "ipython",
    "version": 3
   },
   "file_extension": ".py",
   "mimetype": "text/x-python",
   "name": "python",
   "nbconvert_exporter": "python",
   "pygments_lexer": "ipython3",
   "version": "3.8.5"
  }
 },
 "nbformat": 4,
 "nbformat_minor": 4
}
